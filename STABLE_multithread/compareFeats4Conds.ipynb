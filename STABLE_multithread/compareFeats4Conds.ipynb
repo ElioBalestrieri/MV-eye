{
 "cells": [
  {
   "cell_type": "code",
   "execution_count": 1,
   "id": "583c5918-ea7c-429d-803e-24bd62f4f37c",
   "metadata": {
    "tags": []
   },
   "outputs": [],
   "source": [
    "# notebook for 4 conds features benchmarking\n",
    "%matplotlib ipympl\n",
    "import sys\n",
    "import numpy as np\n",
    "import pandas as pd\n",
    "import os\n",
    "from sklearn.svm import SVC\n",
    "from sklearn.metrics import balanced_accuracy_score\n",
    "import matplotlib.pyplot as plt\n",
    "import seaborn as sns\n",
    "\n",
    "from openTSNE import TSNE\n",
    "\n",
    "# setting path for mv_python_utils\n",
    "sys.path.append('../helper_functions')\n",
    "from mv_python_utils import cat_subjs_train_test, cat_subjs_train_test_ParcelScale\n",
    "\n",
    "#input folder \n",
    "infold = '../STRG_computed_features/Mdl_comparison/'\n"
   ]
  },
  {
   "cell_type": "code",
   "execution_count": 2,
   "id": "0e59dce5-1f78-4cec-a815-2c47358f7bc8",
   "metadata": {},
   "outputs": [
    {
     "name": "stderr",
     "output_type": "stream",
     "text": [
      "\n",
      "KeyboardInterrupt\n",
      "\n"
     ]
    }
   ],
   "source": [
    "# load & cat files from TimeFeats\n",
    "list_ExpConds = ['ECEO_TimeFeats', 'VS_TimeFeats']\n",
    "fullX_train, fullX_test, Y_train_A, Y_test_A, subjID_trials_labels = cat_subjs_train_test(infold, strtsubj=0, endsubj=29, \n",
    "                                                                                            ftype=list_ExpConds, tanh_flag=True, \n",
    "                                                                                            compress_flag=True)     \n",
    "                                                                                            "
   ]
  },
  {
   "cell_type": "code",
   "execution_count": null,
   "id": "8e2b77ba-664f-48cf-9604-22cc5f8428f7",
   "metadata": {
    "tags": []
   },
   "outputs": [],
   "source": [
    "# compute 2d correlation of all features\n",
    "from scipy.spatial import distance\n",
    "\n",
    "# define function to adapt train and test sets\n",
    "def adapt_data(dat):\n",
    "    \n",
    "    # first delete the \"full_set\" from the copied dictionary    \n",
    "    # corr_Xtr = fullX_train.copy()\n",
    "\n",
    "    del dat['full_set']\n",
    "\n",
    "    # split fooof into offset and slope\n",
    "    fooof_aperiodic = dat['fooof_aperiodic']\n",
    "    dat['fooof_slope'] = fooof_aperiodic[:, 0::2]\n",
    "    dat['fooof_offset'] = fooof_aperiodic[:, 1::2]\n",
    "    # and delete fooof aperiodic\n",
    "    del dat['fooof_aperiodic']\n",
    "\n",
    "    return dat\n",
    "\n",
    "# transfor train and test sets\n",
    "corr_Xtr = adapt_data(fullX_train)\n",
    "corr_Xte = adapt_data(fullX_test)\n",
    "\n",
    "print(corr_Xtr.keys())\n",
    "\n",
    "corr_array, cosine_array = np.zeros((len(corr_Xtr), len(corr_Xtr))), np.zeros((len(corr_Xtr), len(corr_Xtr)))\n",
    "\n",
    "# start loop to:\n",
    "# 1: compute classification accuracy of every feature\n",
    "# 2: compute correlation between features\n",
    "\n",
    "rbf_svm = SVC(C=10, random_state=42)\n",
    "\n",
    "\n",
    "acc_row = 0\n",
    "vect_accuracy = [] # keep is as a list, easier to resort it accoridng to the dendrogram leaves\n",
    "\n",
    "for rowFeat, FeatArray1 in corr_Xtr.items():\n",
    "    \n",
    "    # fit the SVM model\n",
    "    this_mdl = rbf_svm.fit(FeatArray1, Y_train_A)\n",
    "\n",
    "    # generate predictions & compute balanced accuracy\n",
    "    Xte = corr_Xte[rowFeat]\n",
    "    pred_labels = this_mdl.predict(Xte)\n",
    "    this_acc = balanced_accuracy_score(Y_test_A, pred_labels)\n",
    "\n",
    "    vect_accuracy.append(this_acc)\n",
    "    \n",
    "    # linearize matrix, to correlate across trials & parcels\n",
    "    rowFlat = np.hstack(FeatArray1)\n",
    "    \n",
    "    acc_col = 0\n",
    "    for colFeat, FeatArray2 in corr_Xtr.items():\n",
    "    \n",
    "        colFlat = np.hstack(FeatArray2)\n",
    "\n",
    "        corr_array[acc_row, acc_col] = np.corrcoef(rowFlat, colFlat)[0, 1]\n",
    "        cosine_array[acc_row, acc_col] = distance.cosine(rowFlat, colFlat)\n",
    "        \n",
    "        acc_col += 1\n",
    "        \n",
    "    acc_row += 1\n",
    "    print(rowFeat)\n",
    "\n",
    "# round correlation to 5th element. This avoids asymmetric matrix for values close to machine precision\n",
    "corr_array = np.round(corr_array, 5)\n"
   ]
  },
  {
   "cell_type": "code",
   "execution_count": null,
   "id": "0cfcb437-292a-4911-9e77-02d4553c77bf",
   "metadata": {
    "tags": []
   },
   "outputs": [],
   "source": [
    "# Create the heatmap with tilted x-axis labels\n",
    "plt.figure()\n",
    "sns.heatmap(corr_array, xticklabels=corr_Xtr.keys(), yticklabels=corr_Xtr.keys(), cmap=\"RdBu_r\")\n",
    "\n",
    "plt.xticks(rotation=90, ha=\"right\")  # Rotate x-axis labels by 45 degrees for readability\n",
    "plt.yticks(rotation=0)  # Keep y-axis labels horizontal\n",
    "\n",
    "\n",
    "#plt.subplot(212)\n",
    "#sns.heatmap(cosine_array, xticklabels=corr_Xtr.keys(), yticklabels=corr_Xtr.keys(), cmap=\"RdBu\")\n",
    "#plt.tight_layout()"
   ]
  },
  {
   "cell_type": "code",
   "execution_count": null,
   "id": "ea47358d-9efd-4d09-9ccb-33299b64caf8",
   "metadata": {
    "tags": []
   },
   "outputs": [],
   "source": [
    "# start clustering\n",
    "from scipy.cluster.hierarchy import linkage, dendrogram, fcluster\n",
    "from scipy.spatial.distance import squareform\n",
    "\n",
    "dissimilarity_mat = 1-np.abs(corr_array)\n",
    "\n",
    "Z = linkage(squareform(dissimilarity_mat), 'complete')\n",
    "\n",
    "\n",
    "plt.figure()\n",
    "R = dendrogram(Z, labels=list(corr_Xtr.keys()), orientation='top', \n",
    "           leaf_rotation=90, color_threshold=.75);\n",
    "plt.tight_layout()\n",
    "\n",
    "print(R['leaves'])\n"
   ]
  },
  {
   "cell_type": "code",
   "execution_count": null,
   "id": "bb342896-b4c9-45a7-b9f4-c8fd6a5d91a5",
   "metadata": {
    "tags": []
   },
   "outputs": [],
   "source": [
    "# Clusterize the data\n",
    "threshold = .8\n",
    "labels = fcluster(Z, threshold, criterion='distance')\n",
    "\n",
    "# Show the cluster\n",
    "print(labels)\n",
    "list(corr_Xtr.keys())\n",
    "\n",
    "sorted_accs = [vect_accuracy[i] for i in R['leaves']] \n",
    "\n",
    "print(sorted_accs)"
   ]
  },
  {
   "cell_type": "code",
   "execution_count": null,
   "id": "757328c4-2be1-4d5f-8f63-977f6804d190",
   "metadata": {
    "tags": []
   },
   "outputs": [],
   "source": [
    "from mpl_toolkits.axes_grid1 import make_axes_locatable\n",
    "\n",
    "DF_corr = pd.DataFrame(data=1-abs(corr_array), index=corr_Xtr.keys(), columns=corr_Xtr.keys())\n",
    "\n",
    "# sns.clustermap(DF_corr, method=\"complete\", cmap='RdBu_r', xticklabels=True, yticklabels=True,\n",
    "#               annot_kws={\"size\": 7}, vmin=-1, vmax=1);\n",
    "\n",
    "g = sns.clustermap(DF_corr, method=\"complete\", cmap='Reds_r', xticklabels=True, yticklabels=True,\n",
    "                   annot_kws={\"size\": 7}, vmin=0, vmax=1, cbar_kws={'orientation' : 'horizontal'},\n",
    "                  row_linkage=Z, col_linkage=Z);\n",
    "\n",
    "x0, _y0, _w, _h = g.cbar_pos\n",
    "g.ax_cbar.set_position([x0, 0.9, g.ax_row_dendrogram.get_position().width-.02, 0.02])\n",
    "g.ax_cbar.set_title('distance \\n(1-abs(r))')\n",
    "g.ax_col_dendrogram.set_visible(False)\n",
    "\n",
    "# hist_data = [histogram_step_points(data[x_i, y_i, :], bins=\"auto\", density=True) \n",
    "#         for x_i in row_order for y_i in col_order]\n",
    "# mean_data = np.reshape(mean_xy_data[row_order][col_order], -1)\n",
    "\n",
    "# x, y = hist_data[0].T[0], np.zeros(hist_data[0].shape[0]) # initial hist is all at 0\n",
    "\n"
   ]
  },
  {
   "cell_type": "code",
   "execution_count": null,
   "id": "eba74508-8643-40a4-ae52-05433186eae1",
   "metadata": {
    "tags": []
   },
   "outputs": [],
   "source": [
    "# accuracy plot \n",
    "\n",
    "plt.figure()\n",
    "\n",
    "plt.rcParams['ytick.right'] = plt.rcParams['ytick.labelright'] = True\n",
    "plt.rcParams['ytick.left'] = plt.rcParams['ytick.labelleft'] = False\n",
    "\n",
    "\n",
    "plt.bar(range(len(sorted_accs)), sorted_accs)\n",
    "plt.ylabel('balanced accuracy')\n",
    "plt.tick_params(labelbottom = False, bottom = False) \n",
    "\n"
   ]
  },
  {
   "cell_type": "code",
   "execution_count": null,
   "id": "0756e87f-b13e-429e-ac12-05b0e421edd8",
   "metadata": {},
   "outputs": [],
   "source": [
    "# store previous values, from nonbandpassed signal, and add the features computed in the frequency bands\n",
    "\n",
    "temp = {'Xtrain' : fullX_train,\n",
    "        'Xtest' : fullX_test,\n",
    "        'Ytrain' : Y_train_A,\n",
    "        'Ytest' : Y_test_A,\n",
    "        'subjIDs' : subjID_trials_labels}\n",
    "\n",
    "compareBands = {'no_bandpass' : temp}\n",
    "\n",
    "# loop to load also the bandpassed signals\n",
    "freqBands = ['delta', 'theta', 'alpha', 'beta', 'low_gamma', 'high_gamma']\n",
    "infold_bands = '../STRG_computed_features/TimeFeats_bandpassed/'\n",
    "\n",
    "for thisBand in freqBands:\n",
    "    \n",
    "    this_list_expConds = ['ECEO_' + thisBand + '_TimeFeats', 'VS_' + thisBand + '_TimeFeats']\n",
    "    Xtr, Xte, Ytr, Yte, subjID_trials_labels = cat_subjs_train_test(infold_bands, strtsubj=0, endsubj=29, \n",
    "                                                                    ftype=this_list_expConds, tanh_flag=True, \n",
    "                                                                    compress_flag=True)     \n",
    "    temp = {'Xtrain' : Xtr,\n",
    "            'Xtest' : Xte,\n",
    "            'Ytrain' : Ytr,\n",
    "            'Ytest' : Yte,\n",
    "            'subjIDs' : subjID_trials_labels}\n",
    "\n",
    "    temp_dict = {thisBand : temp}\n",
    "    compareBands.update(temp_dict)\n",
    "    \n",
    "    print(thisBand + ' completed')\n",
    "\n",
    "    \n",
    "# try on parcel-defined scaling\n",
    "# X_train, X_test, Y_train, Y_test, subjID_train, subjID_test = cat_subjs_train_test_ParcelScale(infold, strtsubj=0, endsubj=29, \n",
    "#                                      "
   ]
  },
  {
   "cell_type": "code",
   "execution_count": null,
   "id": "e0cb43f2-53f1-4060-97bb-ac4ce8abda36",
   "metadata": {
    "tags": []
   },
   "outputs": [],
   "source": [
    "# load & cat files from freqbands set\n",
    "list_ExpConds = ['ECEO_FreqBands', 'VS_FreqBands']\n",
    "Xtr, Xte, Ytr, Yte, subjID_trials_labels = cat_subjs_train_test(infold, strtsubj=0, endsubj=29, \n",
    "                                                                    ftype=list_ExpConds, tanh_flag=True, \n",
    "                                                                    compress_flag=True)     \n",
    "temp = {'Xtrain' : Xtr,\n",
    "        'Xtest' : Xte,\n",
    "        'Ytrain' : Ytr,\n",
    "        'Ytest' : Yte,\n",
    "        'subjIDs' : subjID_trials_labels}\n",
    "\n",
    "compareBands = {'freqBands' : temp}\n"
   ]
  },
  {
   "cell_type": "code",
   "execution_count": null,
   "id": "e0b75a34-3d87-4534-9d1a-5a4281590d05",
   "metadata": {
    "tags": []
   },
   "outputs": [],
   "source": [
    "# Classifier 1\n",
    "# - standardization, within subject, along repetitions.\n",
    "\n",
    "outfold = '../STRG_decoding_accuracy/Mdl_comparison/'\n",
    "rbf_svm = SVC(C=10)\n",
    "\n",
    "blist = []; accfreq = 0\n",
    "for bandName, dataset in compareBands.items():\n",
    "    \n",
    "    X_train = dataset['Xtrain']\n",
    "    X_test = dataset['Xtest']\n",
    "    Y_train = dataset['Ytrain']\n",
    "    Y_test = dataset['Ytest']\n",
    "    \n",
    "    dict_accs = {}\n",
    "    for key, Xtr in X_train.items():\n",
    "\n",
    "        # fit the SVM model\n",
    "        this_mdl = rbf_svm.fit(Xtr, Y_train)\n",
    "\n",
    "        # generate predictions & compute balanced accuracy\n",
    "        Xte = X_test[key]\n",
    "        pred_labels = this_mdl.predict(Xte)\n",
    "        this_acc = balanced_accuracy_score(Y_test, pred_labels)\n",
    "\n",
    "        # print some feedback in the CL\n",
    "        print(bandName + ' ' + key + ': ' + str(round(this_acc, 4)))\n",
    "\n",
    "        # append \n",
    "        dict_accs.update({key:this_acc})\n",
    "\n",
    "    DFband = pd.DataFrame(dict_accs, index=[bandName])\n",
    "    DFband.to_csv(outfold + bandName + '_4conds_collapsed_reproduce.csv') # save, just to be sure\n",
    "    blist.append(DFband)\n",
    "    \n",
    "allBandsDF = pd.concat(blist)\n",
    "allBandsDF.to_csv(outfold + 'freqBands_TS_4conds_collapsed_reproduce.csv')"
   ]
  },
  {
   "cell_type": "code",
   "execution_count": null,
   "id": "1c4969fb-a87f-4fe4-9e1e-1c9229e2e0d2",
   "metadata": {
    "tags": []
   },
   "outputs": [],
   "source": [
    "# how many top features?\n",
    "nfeats = 20\n",
    "outfold = '../STRG_decoding_accuracy/Mdl_comparison/'\n",
    "\n",
    "# fetch data & plot\n",
    "df_power = pd.read_csv(outfold + 'freqBands_4conds_collapsed.csv', index_col=0)\n",
    "df_TS = pd.read_csv(outfold + 'freqBands_TS_4conds_collapsed.csv', index_col=0)\n",
    "# df_power = pd.read_csv('freqBands_4conds_collapsed.csv', index_col=0)\n",
    "# df_TS = pd.read_csv('freqBands_TS_4conds_collapsed.csv', index_col=0)\n",
    "\n",
    "\n",
    "\n",
    "# make the last entry (all bands together) as the first entry (to match the \"no bandpass\" row in the full DF)\n",
    "array = np.roll(np.asarray(df_power), 1)\n",
    "df_TS['power'] = array.T\n",
    "\n",
    "# Convert to Long Format\n",
    "melted_df = pd.melt(df_TS, var_name='features', value_name='balanced accuracy', ignore_index=False)\n",
    "\n",
    "# Sort in Descending Order and Rename 'index' to 'frequency'\n",
    "sorted_df = melted_df.sort_values(by='balanced accuracy', ascending=False).reset_index().rename(columns={'index': 'frequency'})\n",
    "\n",
    "# merge columns\n",
    "sorted_df['freq_feat'] = sorted_df['frequency'] + '\\n' + sorted_df['features']\n",
    "\n",
    "# Select the first 20 entries\n",
    "top_feats = sorted_df.head(nfeats)\n",
    "\n",
    "# Plotting\n",
    "plt.figure(figsize=(10, 8))\n",
    "sns.barplot(x='balanced accuracy', y='freq_feat', data=top_feats, orient='h',\n",
    "            palette=\"ch:start=.2,rot=-.3, dark=.4\")\n",
    "\n",
    "plt.xlabel('balanced accuracy')\n",
    "plt.ylabel('Features')\n",
    "plt.title('Top ' + str(nfeats) + ' features' + '\\n4 conditions classification')\n",
    "plt.show()\n",
    "plt.xlim([.25, 1])\n",
    "plt.tight_layout()\n",
    "plt.legend(loc='lower right')\n",
    "\n",
    "\n",
    "print(top_feats)\n"
   ]
  },
  {
   "cell_type": "code",
   "execution_count": null,
   "id": "78dbfe60-867f-49a2-9fd4-7bfb0628f6a6",
   "metadata": {
    "tags": []
   },
   "outputs": [],
   "source": [
    "# Create a heatmap with Seaborn\n",
    "plt.figure(figsize=(12, 8))  # Set the figure size\n",
    "\n",
    "# Create the heatmap with tilted x-axis labels\n",
    "sns.heatmap(df_TS, cmap=\"Reds\", xticklabels=df_TS.columns, yticklabels=df_TS.index)\n",
    "\n",
    "# Tilt x-axis labels for better readability\n",
    "plt.xticks(rotation=45, ha=\"right\")  # Rotate x-axis labels by 45 degrees for readability\n",
    "plt.yticks(rotation=0)  # Keep y-axis labels horizontal\n",
    "plt.tight_layout()\n",
    "\n"
   ]
  },
  {
   "cell_type": "code",
   "execution_count": null,
   "id": "45a94a86-a56e-4a01-9462-a9ad62cc13e7",
   "metadata": {
    "tags": []
   },
   "outputs": [],
   "source": [
    "# save output & plot\n",
    "\n",
    "outfold = '../STRG_decoding_accuracy/Mdl_comparison/'\n",
    "acc_table = pd.DataFrame(data=dict_accs, index=['balanced accuracy'])\n",
    "acc_table.to_csv(outfold + 'test_acc_4conds_collapsed.csv')\n",
    "\n",
    "plt.figure()\n",
    "sns.barplot(acc_table.sort_values(by='balanced accuracy', ascending=False, axis=1), orient='h', palette=\"ch:start=.2,rot=-.3, dark=.4\")\n",
    "plt.tight_layout()\n"
   ]
  },
  {
   "cell_type": "code",
   "execution_count": null,
   "id": "198ad107-a505-4dee-8683-cbbcb6feae84",
   "metadata": {
    "tags": []
   },
   "outputs": [],
   "source": [
    "# Classifier 2a-b\n",
    "# - standardization, within trial, along parcels. with or without shuffled participants labels\n",
    "\n",
    "rbf_svm = SVC(C=10)\n",
    "\n",
    "dict_accs_parc = dict()\n",
    "for key, X in X_train.items():\n",
    "        \n",
    "    # fit the SVM model on with ordered subject labels \n",
    "    vect_subjorder_train = np.array(subjID_train, ndmin=2).T\n",
    "    X_parts_ordered = np.concatenate((X, vect_subjorder_train), axis=1)\n",
    "    this_mdl_ordered = rbf_svm.fit(X_parts_ordered, Y_train)\n",
    "\n",
    "    # fit the SVM model on shuffled subject labels\n",
    "    vect_subjshuffled_train = np.copy(vect_subjorder_train)\n",
    "    np.random.shuffle(vect_subjshuffled_train) # python is weird to me sometimes\n",
    "    X_parts_shuffled = np.concatenate((X, vect_subjshuffled_train), axis=1)\n",
    "    this_mdl_shuffled = rbf_svm.fit(X_parts_shuffled, Y_train)\n",
    "\n",
    "    # create test data with ordered and shuffled subject labels, respectively\n",
    "    vect_subjorder_test = np.array(subjID_test, ndmin=2).T\n",
    "    vect_subjshuffled_test = np.copy(vect_subjorder_test)\n",
    "    np.random.shuffle(vect_subjshuffled_test)\n",
    "    swapXtest_ordered = np.concatenate((X_test[key], vect_subjorder_test), axis=1)\n",
    "    swapXtest_shuffled = np.concatenate((X_test[key], vect_subjshuffled_test), axis=1)\n",
    "    \n",
    "    \n",
    "    # generate predictions & compute balanced accuracy\n",
    "    pred_labels_ord = this_mdl_ordered.predict(swapXtest_ordered)\n",
    "    this_acc_ord = balanced_accuracy_score(Y_test, pred_labels_ord)\n",
    "\n",
    "    pred_labels_shffld = this_mdl_shuffled.predict(swapXtest_shuffled)\n",
    "    this_acc_shffld = balanced_accuracy_score(Y_test, pred_labels_shffld)\n",
    "\n",
    "    this_acc = [this_acc_ord, this_acc_shffld]\n",
    "    \n",
    "    # print some feedback in the CL\n",
    "    print(key + ' ordered subj: ' + str(round(this_acc[0], 4)))\n",
    "    print(key + ' shuffled subj: ' + str(round(this_acc[1], 4)))\n",
    "\n",
    "    # append \n",
    "    dict_accs_parc.update({key:this_acc})\n",
    "\n",
    "    \n",
    "acc_table_parc = pd.DataFrame(data=dict_accs_parc, index=['ordered subjlabels', 'shuffled subjlabels'])\n",
    "\n"
   ]
  },
  {
   "cell_type": "code",
   "execution_count": null,
   "id": "452d4063-4084-4f18-965c-7c17324104e2",
   "metadata": {
    "tags": []
   },
   "outputs": [],
   "source": [
    "outfold = '../STRG_decoding_accuracy/Mdl_comparison/'\n",
    "acc_table_parc.to_csv(outfold + 'test_acc_4conds_collapsed_parc.csv')"
   ]
  },
  {
   "cell_type": "code",
   "execution_count": null,
   "id": "648e378f-74be-4241-b3b6-2976e8be33b6",
   "metadata": {
    "tags": []
   },
   "outputs": [],
   "source": [
    "# read classification accuracy data\n",
    "infold = '../STRG_decoding_accuracy/Mdl_comparison/'\n",
    "acc_table_NormParc = pd.read_csv(infold + 'test_acc_4conds_collapsed_parc.csv', index_col=0).iloc[[1]]\n",
    "acc_table_NormTrials = pd.read_csv(infold + 'test_acc_4conds_collapsed.csv',  index_col=0)\n",
    "\n",
    "plt.figure()\n",
    "sns.barplot(acc_table_NormTrials.sort_values(by='balanced accuracy', ascending=False, axis=1), orient='h', palette=\"ch:start=.2,rot=-.3, dark=.4\")\n",
    "plt.title('Norm across trials')\n",
    "plt.tight_layout()\n"
   ]
  },
  {
   "cell_type": "code",
   "execution_count": null,
   "id": "58b5a296-5f81-4246-8693-84094ca55f4a",
   "metadata": {
    "tags": []
   },
   "outputs": [],
   "source": [
    "plt.figure()\n",
    "sns.barplot(acc_table_NormParc.sort_values(by='shuffled subjlabels', ascending=False, axis=1), orient='h', palette=\"ch:start=.2,rot=-.3, dark=.4\")\n",
    "plt.title('Norm across parcels')\n",
    "plt.tight_layout()\n"
   ]
  },
  {
   "cell_type": "code",
   "execution_count": null,
   "id": "1fccd214-0f23-4d21-aa18-20adcb0e2188",
   "metadata": {},
   "outputs": [],
   "source": [
    "# TSNE testing\n",
    "\n",
    "example_feat = 'MCL'\n",
    "\n",
    "tsne_across, tsne_parcel = (TSNE(n_components=2,\n",
    "                                perplexity=30,\n",
    "                                metric=\"euclidean\",\n",
    "                                n_jobs=8,\n",
    "                                random_state=42,\n",
    "                                verbose=True),)*2\n",
    "\n",
    "across_X_train, across_X_test = fullX_train[example_feat], fullX_test[example_feat]\n",
    "%time embed_train_across = tsne_across.fit(across_X_train)\n",
    "%time embed_test_across = embed_train_across.transform(across_X_test)\n",
    "\n",
    "parcel_X_train, parcel_X_test = X_train[example_feat], X_test[example_feat]\n",
    "%time embed_train_parcel = tsne_parcel.fit(parcel_X_train)\n",
    "%time embed_test_parcel = embed_train_parcel.transform(parcel_X_test)\n"
   ]
  },
  {
   "cell_type": "code",
   "execution_count": null,
   "id": "e691b9d8-0cb8-4072-ab5b-383aabd6a850",
   "metadata": {
    "tags": []
   },
   "outputs": [],
   "source": [
    "# create DF for easy plotting  \n",
    "\n",
    "dict_plot_across = {'x': embed_test_across[:, 0],\n",
    "                     'y': embed_test_across[:, 1],\n",
    "                     'labels': Y_test_A}\n",
    "\n",
    "DF_tsne_across = pd.DataFrame.from_dict(dict_plot_across)\n",
    "\n",
    "plt.figure()\n",
    "plt.subplot(121)\n",
    "sns.scatterplot(data=DF_tsne_across, x='x', y='y', hue='labels')\n",
    "plt.subplot(122)\n",
    "sns.kdeplot(data=DF_tsne_across, x='x', y='y', hue='labels')\n"
   ]
  },
  {
   "cell_type": "code",
   "execution_count": null,
   "id": "f10086e4-cd6f-4e9d-b012-d8a25f65f065",
   "metadata": {},
   "outputs": [],
   "source": [
    "dict_plot_parc = {'x': embed_test_parcel[:, 0],\n",
    "                 'y': embed_test_parcel[:, 1],\n",
    "                 'labels': Y_test,\n",
    "                 'subjIDs' : subjID_test}\n",
    "\n",
    "DF_tsne_parcel = pd.DataFrame.from_dict(dict_plot_parc)\n",
    "\n",
    "plt.figure()\n",
    "plt.subplot(121)\n",
    "sns.scatterplot(data=DF_tsne_parcel, x='x', y='y', hue='labels')\n",
    "plt.subplot(122)\n",
    "sns.kdeplot(data=DF_tsne_parcel, x='x', y='y', hue='labels')\n"
   ]
  },
  {
   "cell_type": "code",
   "execution_count": null,
   "id": "9643ab90-3670-408d-b62e-7b47943d2cd6",
   "metadata": {},
   "outputs": [],
   "source": [
    "# Create a new column 'scalarSubj' with unique integers for each unique value in 'subjIDs'\n",
    "DF_tsne_parcel['scalarSubj'] = pd.factorize(DF_tsne_parcel['subjIDs'])[0]\n",
    "\n",
    "# Create a 3D scatterplot\n",
    "sns.set(style=\"darkgrid\")\n",
    "fig = plt.figure(figsize=(10, 8))\n",
    "\n",
    "# 3D Scatterplot\n",
    "ax1 = fig.add_subplot(projection='3d')\n",
    "scatter = ax1.scatter(DF_tsne_parcel['x'], DF_tsne_parcel['y'], DF_tsne_parcel['scalarSubj'], c=DF_tsne_parcel['labels'])\n",
    "ax1.set_xlabel('x')\n",
    "ax1.set_ylabel('y')\n",
    "ax1.set_zlabel('scalarSubj')\n",
    "legend1 = ax1.legend(*scatter.legend_elements(), loc=\"upper right\")\n",
    "ax1.add_artist(legend1)\n",
    "ax1.set_title('3D Scatterplot')\n",
    "\n",
    "\n",
    "\n"
   ]
  },
  {
   "cell_type": "code",
   "execution_count": null,
   "id": "17c09ae6-e85f-4a1d-8a9e-b8a45336a83d",
   "metadata": {
    "tags": []
   },
   "outputs": [],
   "source": [
    "fig = plt.figure(figsize=(10, 8))\n",
    "\n",
    "# KDE Plot for x\n",
    "ax2 = fig.add_subplot(221)\n",
    "sns.kdeplot(data=DF_tsne_parcel, x='x', y='y', hue='labels', ax=ax2)\n",
    "ax2.set_xlabel('x')\n",
    "ax2.set_title('KDE Projection collapsing subjects')\n",
    "\n",
    "# KDE Plot for y\n",
    "ax3 = fig.add_subplot(222)\n",
    "sns.kdeplot(data=DF_tsne_parcel, x='y', y='scalarSubj', hue='labels', ax=ax3)\n",
    "ax3.set_xlabel('y')\n",
    "ax3.set_title('KDE Projection collapsing x-axis')\n",
    "\n",
    "# KDE Plot for scalarSubj\n",
    "ax4 = fig.add_subplot(223)\n",
    "sns.kdeplot(data=DF_tsne_parcel, x='scalarSubj', y='x', hue='labels', ax=ax4)\n",
    "ax4.set_xlabel('scalarSubj')\n",
    "ax4.set_title('KDE Projection collapsing y-axis')\n",
    "\n",
    "plt.tight_layout()\n",
    "plt.show()\n"
   ]
  }
 ],
 "metadata": {
  "kernelspec": {
   "display_name": "Python 3 (ipykernel)",
   "language": "python",
   "name": "python3"
  },
  "language_info": {
   "codemirror_mode": {
    "name": "ipython",
    "version": 3
   },
   "file_extension": ".py",
   "mimetype": "text/x-python",
   "name": "python",
   "nbconvert_exporter": "python",
   "pygments_lexer": "ipython3",
   "version": "3.10.12"
  }
 },
 "nbformat": 4,
 "nbformat_minor": 5
}

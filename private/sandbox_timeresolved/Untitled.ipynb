{
 "cells": [
  {
   "cell_type": "code",
   "execution_count": 9,
   "id": "89035643-7425-4dd6-b9d1-2ad3a99f4c53",
   "metadata": {
    "tags": []
   },
   "outputs": [
    {
     "data": {
      "text/plain": [
       "'2501'"
      ]
     },
     "execution_count": 9,
     "metadata": {},
     "output_type": "execute_result"
    }
   ],
   "source": [
    "import glob\n",
    "import re\n",
    "\n",
    "path = '/remotedata/AgGross/AlphaSpade/Data/_meg/' + 'fullsegcleanmeg_*'\n",
    "\n",
    "flist = glob.glob(path)\n",
    "\n",
    "regex = re.compile(r'\\d+')\n",
    "\n",
    "\n",
    "regex.findall(flist[0])[0]\n"
   ]
  },
  {
   "cell_type": "code",
   "execution_count": null,
   "id": "92903467-2951-49c2-9376-1643d964d513",
   "metadata": {},
   "outputs": [],
   "source": []
  }
 ],
 "metadata": {
  "kernelspec": {
   "display_name": "Python 3 (ipykernel)",
   "language": "python",
   "name": "python3"
  },
  "language_info": {
   "codemirror_mode": {
    "name": "ipython",
    "version": 3
   },
   "file_extension": ".py",
   "mimetype": "text/x-python",
   "name": "python",
   "nbconvert_exporter": "python",
   "pygments_lexer": "ipython3",
   "version": "3.10.12"
  }
 },
 "nbformat": 4,
 "nbformat_minor": 5
}

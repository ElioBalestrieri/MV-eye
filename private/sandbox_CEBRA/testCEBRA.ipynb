{
 "cells": [
  {
   "cell_type": "code",
   "execution_count": null,
   "id": "7a1da33a-192b-4ce8-be13-2816874d960d",
   "metadata": {},
   "outputs": [],
   "source": [
    "%matplotlib ipympl\n",
    "from mne import read_epochs_fieldtrip\n",
    "import matplotlib.pyplot as plt\n",
    "import numpy as np"
   ]
  },
  {
   "cell_type": "code",
   "execution_count": null,
   "id": "0eca5a79-b6ea-4408-bd8f-b410f35813e2",
   "metadata": {
    "tags": []
   },
   "outputs": [],
   "source": [
    "# suppress RuntimeWarning coming from unrecognized channel in structure\n",
    "import warnings\n",
    "warnings.simplefilter(\"ignore\", RuntimeWarning)\n",
    "\n",
    "# extract data \n",
    "exampledata = read_epochs_fieldtrip('testdata.mat', None, data_name='testdata')\n",
    "exampledata"
   ]
  },
  {
   "cell_type": "code",
   "execution_count": null,
   "id": "88333bf5-219d-45b8-a7e0-0f70df4d2ce2",
   "metadata": {},
   "outputs": [],
   "source": [
    "data = exampledata._get_data()\n",
    "data = np.swapaxes(data, 0, 1) \n",
    "data = np.reshape(data, (data.shape[0], data.shape[1]*data.shape[2]))\n",
    "plt.figure()\n",
    "plt.plot(data[0, 0:4048])"
   ]
  },
  {
   "cell_type": "code",
   "execution_count": null,
   "id": "67f7cae1-c2e0-44a5-b989-d0b61db23d0b",
   "metadata": {
    "tags": []
   },
   "outputs": [],
   "source": [
    "# highpass the data\n",
    "from local_funcs import butter_highpass_filter, butter_lowpass_filter\n",
    "\n",
    "filt_dat = butter_highpass_filter(data, .1, 256)\n",
    "filt_dat = butter_lowpass_filter(filt_dat, 100, 256)\n",
    "\n",
    "plt.figure()\n",
    "plt.plot(filt_dat[300, :])\n"
   ]
  },
  {
   "cell_type": "code",
   "execution_count": null,
   "id": "038eeed7-943a-4f4d-834c-27ddee738f35",
   "metadata": {},
   "outputs": [],
   "source": [
    "# import CEBRA\n",
    "import cebra\n",
    "from cebra import CEBRA"
   ]
  },
  {
   "cell_type": "code",
   "execution_count": null,
   "id": "12491010-e035-4987-8fc0-9a95f2fe326c",
   "metadata": {
    "tags": []
   },
   "outputs": [],
   "source": [
    "# define CEBRA model \n",
    "cebra_model = CEBRA(\n",
    "    model_architecture = \"offset10-model\",\n",
    "    batch_size = 1024,\n",
    "    temperature_mode=\"auto\",\n",
    "    learning_rate = 0.01,\n",
    "    max_iterations = 1000,\n",
    "    time_offsets = 10,\n",
    "    output_dimension = 7,\n",
    "    device = \"cuda_if_available\",\n",
    "    verbose = True,\n",
    "    conditional = 'time'\n",
    ")"
   ]
  },
  {
   "cell_type": "code",
   "execution_count": null,
   "id": "9ebe1823-5bd4-4979-91b5-77bd6aa5dad0",
   "metadata": {
    "tags": []
   },
   "outputs": [],
   "source": [
    "# bring the data into a more acceptable numeric range\n",
    "from sklearn.preprocessing import RobustScaler\n",
    "dat = RobustScaler().fit_transform(filt_dat.transpose())\n",
    "\n",
    "\n"
   ]
  },
  {
   "cell_type": "code",
   "execution_count": null,
   "id": "95c92a04-5153-4ba5-a438-a8d3f8c04f14",
   "metadata": {
    "tags": []
   },
   "outputs": [],
   "source": [
    "# fit model\n",
    "cebra_model.fit(dat)\n",
    "# evaluate model\n",
    "embedding = cebra_model.transform(dat)"
   ]
  },
  {
   "cell_type": "code",
   "execution_count": null,
   "id": "799a72e1-6046-4afb-8729-29e0dc596611",
   "metadata": {
    "tags": []
   },
   "outputs": [],
   "source": [
    "# plots\n",
    "#1 evaluate the three time series\n",
    "plt.figure()\n",
    "plt.subplot(311)\n",
    "plt.plot(embedding[0:2023, 0])\n",
    "plt.subplot(312)\n",
    "plt.plot(embedding[0:2023, 1])\n",
    "#plt.subplot(313)\n",
    "#plt.plot(embedding[0:2023, 2])"
   ]
  },
  {
   "cell_type": "code",
   "execution_count": null,
   "id": "85a50143-69c3-42d5-85ff-dd256648b87b",
   "metadata": {},
   "outputs": [],
   "source": [
    "# fancy plots\n",
    "cebra.plot_embedding(embedding)\n"
   ]
  },
  {
   "cell_type": "code",
   "execution_count": null,
   "id": "9643f181-84c8-4e2e-99cf-59824126c423",
   "metadata": {
    "tags": []
   },
   "outputs": [],
   "source": [
    "# more plotsmax_iterations\n",
    "cebra.plot_loss(cebra_mdl_beh)"
   ]
  },
  {
   "cell_type": "code",
   "execution_count": null,
   "id": "b8cbfa9b-57a3-497a-b1e5-03d22bc743ef",
   "metadata": {
    "tags": []
   },
   "outputs": [],
   "source": [
    "# evaluate correlation of single areas with the extracted embeddings\n",
    "from local_funcs import get_parcel_corr\n",
    "\n",
    "w = get_parcel_corr(dat, embedding)\n",
    "\n"
   ]
  },
  {
   "cell_type": "code",
   "execution_count": null,
   "id": "2c185227-70f2-467e-b475-e80e14097cb7",
   "metadata": {
    "tags": []
   },
   "outputs": [],
   "source": [
    "# plot heatmap of weights \n",
    "import seaborn as sns\n",
    "\n",
    "plt.figure()\n",
    "sns.heatmap(np.abs(w))\n"
   ]
  },
  {
   "cell_type": "code",
   "execution_count": null,
   "id": "0212c81f-eebb-4b5e-a1ef-e3e4a7c8cbd9",
   "metadata": {},
   "outputs": [],
   "source": [
    "from local_funcs import remap2mesh\n",
    "from nilearn import plotting\n",
    "\n",
    "w1 = remap2mesh(np.abs(w[:, 0]))\n",
    "w2 = remap2mesh(np.abs(w[:, 1]))\n",
    "# w3 = remap2mesh(np.abs(w[:, 2]))\n"
   ]
  },
  {
   "cell_type": "code",
   "execution_count": null,
   "id": "82ac812f-3307-4158-999c-b96a4b024b70",
   "metadata": {
    "tags": []
   },
   "outputs": [],
   "source": [
    "# plot topography of first component\n",
    "# left hemisphere\n",
    "plotting.view_surf('../../Resources/S1200.L.very_inflated_MSMAll.32k_fs_LR.surf.gii', w1[:, 0])\n",
    "# right hemisphere\n",
    "# plotting.view_surf('../../Resources/S1200.R.very_inflated_MSMAll.32k_fs_LR.surf.gii', w1[:, 1])"
   ]
  },
  {
   "cell_type": "code",
   "execution_count": null,
   "id": "0a948c35-0814-4f6a-ab45-2ae9c77a2abc",
   "metadata": {
    "tags": []
   },
   "outputs": [],
   "source": [
    "# evaluate embeddings' spectra\n",
    "from scipy.fft import fft, fftfreq\n",
    "\n",
    "fsample = 1/256\n",
    "N = embedding.shape[0]\n",
    "\n",
    "demeaned_ = embedding - embedding.mean(axis=0)\n",
    "\n",
    "comps_amp = np.abs(fft(embedding, axis=0)[0:N//2, :])**2\n",
    "xf = fftfreq(N, fsample)[:N//2]\n",
    "\n",
    "plt.figure()\n",
    "plt.plot(xf, np.log10(comps_amp))\n",
    "# plt.plot(xf, np.log10(comps_amp))\n",
    "\n",
    "\n",
    "# plt.subplot(311)\n",
    "# plt.plot(xf, np.log10(comps_amp[:, 0]))\n",
    "# plt.subplot(312)\n",
    "# plt.plot(xf, comps_amp[:, 1])\n",
    "# plt.subplot(313)\n",
    "# plt.plot(xf, comps_amp[:, 2])\n",
    "\n",
    "\n",
    "# plt.show()\n"
   ]
  },
  {
   "cell_type": "code",
   "execution_count": null,
   "id": "c4353926-31da-4acb-beed-4d5cbc838a48",
   "metadata": {
    "tags": []
   },
   "outputs": [],
   "source": [
    "plt.figure()\n",
    "plt.plot(embedding[:, 0])"
   ]
  },
  {
   "cell_type": "code",
   "execution_count": null,
   "id": "84e83524-b153-4e0d-a88e-5395bb4f3c30",
   "metadata": {},
   "outputs": [],
   "source": [
    "# import tsne data\n",
    "from scipy.io import loadmat\n",
    "\n",
    "unlabeled_dat = loadmat('TSNE_dat.mat')['dat']\n",
    "labels = [1]*int(unlabeled_dat.shape[0]/2) + [2]*int(unlabeled_dat.shape[0]/2)\n",
    "labels = np.array(labels, dtype=int)\n"
   ]
  },
  {
   "cell_type": "code",
   "execution_count": null,
   "id": "5e7f0035-f973-4c69-8715-d8874bef3621",
   "metadata": {
    "tags": []
   },
   "outputs": [],
   "source": [
    "# define new CEBRA model to run with behavioral labels\n",
    "\n",
    "cebra_mdl_beh = CEBRA(\n",
    "    model_architecture = \"offset10-model\",\n",
    "    batch_size = 2048,\n",
    "    temperature_mode=\"auto\",\n",
    "    learning_rate = 0.001,\n",
    "    max_iterations = 1000,\n",
    "    time_offsets = 10,\n",
    "    output_dimension = 2,\n",
    "    device = \"cuda_if_available\",\n",
    "    verbose = True,\n",
    "    conditional=\"time\"\n",
    ")\n"
   ]
  },
  {
   "cell_type": "code",
   "execution_count": null,
   "id": "d3a5dcff-f7b0-4beb-9c04-01b0df66a059",
   "metadata": {
    "tags": []
   },
   "outputs": [],
   "source": [
    "# test models with discrete labels\n",
    "\n",
    "embeddings = cebra_mdl_beh.fit_transform(unlabeled_dat) # , labels"
   ]
  },
  {
   "cell_type": "code",
   "execution_count": null,
   "id": "3c5778b0-0f0d-43fc-a077-d0acb71e7215",
   "metadata": {
    "tags": []
   },
   "outputs": [],
   "source": [
    "# fancy plots\n",
    "cebra.plot_embedding(embeddings, embedding_labels=labels)\n"
   ]
  },
  {
   "cell_type": "code",
   "execution_count": null,
   "id": "54e096a9-b60f-4f76-ad36-d77c10fb8d08",
   "metadata": {
    "tags": []
   },
   "outputs": [],
   "source": [
    "# manually plot the embeddings\n",
    "lbl1 = embeddings[0:int(unlabeled_dat.shape[0]/2), :]\n",
    "lbl2 = embeddings[int(unlabeled_dat.shape[0]/2):, :]\n",
    "\n",
    "plt.figure()\n",
    "plt.scatter(lbl1[:, 0], lbl1[:, 1])\n",
    "plt.scatter(lbl2[:, 0], lbl2[:, 1])\n",
    "\n"
   ]
  },
  {
   "cell_type": "code",
   "execution_count": null,
   "id": "d0112f7d-0d8e-4d7e-a939-494d64b13dec",
   "metadata": {
    "tags": []
   },
   "outputs": [],
   "source": [
    "plt.figure()\n",
    "plt.plot(embeddings[:, 0])\n",
    "plt.plot(embeddings[:, 1])"
   ]
  },
  {
   "cell_type": "code",
   "execution_count": null,
   "id": "bc6c13db-14d7-45c9-8735-686253972ddb",
   "metadata": {},
   "outputs": [],
   "source": []
  }
 ],
 "metadata": {
  "kernelspec": {
   "display_name": "Python 3 (ipykernel)",
   "language": "python",
   "name": "python3"
  },
  "language_info": {
   "codemirror_mode": {
    "name": "ipython",
    "version": 3
   },
   "file_extension": ".py",
   "mimetype": "text/x-python",
   "name": "python",
   "nbconvert_exporter": "python",
   "pygments_lexer": "ipython3",
   "version": "3.10.12"
  }
 },
 "nbformat": 4,
 "nbformat_minor": 5
}
